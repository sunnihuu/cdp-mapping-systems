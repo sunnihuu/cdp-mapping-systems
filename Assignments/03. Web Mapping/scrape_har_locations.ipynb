{
 "cells": [
  {
   "cell_type": "code",
   "execution_count": 1,
   "id": "b49df6fa",
   "metadata": {},
   "outputs": [],
   "source": [
    "import json\n",
    "import requests\n",
    "import folium\n",
    "from folium.plugins import MarkerCluster\n",
    "from pathlib import Path\n",
    "from typing import List, Tuple"
   ]
  },
  {
   "cell_type": "code",
   "execution_count": null,
   "id": "24c82d79",
   "metadata": {},
   "outputs": [],
   "source": [
    "# === CONFIGURATION ===\n",
    "HAR_FILE = \"inputs/ubereats.har\"  # Replace with your HAR filename\n",
    "OUTPUT_MAP = \"outputs/ip_map.html\"\n",
    "MAX_IPS = 50  # Limit to avoid API rate limiting"
   ]
  },
  {
   "cell_type": "code",
   "execution_count": 3,
   "id": "dee66838",
   "metadata": {},
   "outputs": [],
   "source": [
    "# === FUNCTIONS ===\n",
    "\n",
    "\n",
    "def load_ips_from_har(path: str) -> List[str]:\n",
    "    \"\"\"Extract unique IP addresses from a HAR file.\"\"\"\n",
    "    with open(path, \"r\", encoding=\"utf-8\") as f:\n",
    "        har = json.load(f)\n",
    "\n",
    "    entries = har.get(\"log\", {}).get(\"entries\", [])\n",
    "    ips = set()\n",
    "    for entry in entries:\n",
    "        ip = entry.get(\"serverIPAddress\")\n",
    "        url = entry.get(\"request\", {}).get(\"url\", \"\")\n",
    "        print(f\"Processing entry: {url} with IP: {ip}\")\n",
    "        if ip:\n",
    "            # print(f\"Found IP: {ip}\")\n",
    "            ip = ip.strip(\"[]\")\n",
    "            ips.add((ip, url))\n",
    "    return list(ips)"
   ]
  },
  {
   "cell_type": "code",
   "execution_count": 4,
   "id": "077ec6b9",
   "metadata": {},
   "outputs": [],
   "source": [
    "def geolocate_ip(ip_item: Tuple[str, str]) -> Tuple[str, float, float, str]:\n",
    "    \"\"\"Geolocate IP using ipinfo.io API. Returns (ip, lat, lon, url).\"\"\"\n",
    "    ip, url = ip_item\n",
    "\n",
    "    try:\n",
    "        resp = requests.get(f\"https://ipinfo.io/{ip}/json\")\n",
    "        data = resp.json()\n",
    "        loc = data.get(\"loc\")\n",
    "        if loc:\n",
    "            lat, lon = map(float, loc.split(\",\"))\n",
    "            return ip, lat, lon, url\n",
    "    except Exception as e:\n",
    "        print(f\"Error locating {ip}: {e}\")\n",
    "    return ip, 0, 0, url"
   ]
  },
  {
   "cell_type": "code",
   "execution_count": null,
   "id": "424bebc9",
   "metadata": {},
   "outputs": [],
   "source": [
    "def build_map(\n",
    "    ip_locations: List[Tuple[str, float, float, str]], output_path: str\n",
    ") -> None:\n",
    "    \"\"\"Generate Folium map from list of IP + lat/lon tuples.\"\"\"\n",
    "    m = folium.Map(location=[20, 0], zoom_start=2)\n",
    "    cluster = MarkerCluster().add_to(m)\n",
    "    for ip, lat, lon, url in ip_locations:\n",
    "        if lat and lon:\n",
    "            folium.Marker(\n",
    "                location=[lat, lon],\n",
    "                popup=f\"IP: {ip}<br>URL: {url}\",\n",
    "                icon=folium.Icon(color=\"blue\", icon=\"info-sign\"),\n",
    "            ).add_to(cluster)\n",
    "\n",
    "    # additionally save data as a GeoJSON file\n",
    "    geojson_data = {\n",
    "        \"type\": \"FeatureCollection\",\n",
    "        \"features\": [\n",
    "            {\n",
    "                \"type\": \"Feature\",\n",
    "                \"properties\": {\"ip\": ip, \"url\": url},\n",
    "                \"geometry\": {\n",
    "                    \"type\": \"Point\",\n",
    "                    \"coordinates\": [lon, lat],\n",
    "                },\n",
    "            }\n",
    "            for ip, lat, lon, url in ip_locations\n",
    "            if lat and lon\n",
    "        ],\n",
    "    }\n",
    "\n",
    "    m.save(output_path)\n",
    "    print(f\"Map saved to: {output_path}\")\n",
    "\n",
    "    # additionally save data as a GeoJSON file\n",
    "    with open(\"outputs/ip_locations.geojson\", \"w\", encoding=\"utf-8\") as f:\n",
    "        json.dump(geojson_data, f)\n",
    "    print(\"GeoJSON saved to: outputs/ubereats_ip_locations.geojson\")"
   ]
  },
  {
   "cell_type": "code",
   "execution_count": 12,
   "id": "4d483268",
   "metadata": {},
   "outputs": [
    {
     "ename": "FileNotFoundError",
     "evalue": "[Errno 2] No such file or directory: '03. Web Mapping/ubereats.har'",
     "output_type": "error",
     "traceback": [
      "\u001b[31m---------------------------------------------------------------------------\u001b[39m",
      "\u001b[31mFileNotFoundError\u001b[39m                         Traceback (most recent call last)",
      "\u001b[36mCell\u001b[39m\u001b[36m \u001b[39m\u001b[32mIn[12]\u001b[39m\u001b[32m, line 4\u001b[39m\n\u001b[32m      1\u001b[39m \u001b[38;5;66;03m# === RUN ===\u001b[39;00m\n\u001b[32m      3\u001b[39m \u001b[38;5;28;01mif\u001b[39;00m \u001b[34m__name__\u001b[39m == \u001b[33m\"\u001b[39m\u001b[33m__main__\u001b[39m\u001b[33m\"\u001b[39m:\n\u001b[32m----> \u001b[39m\u001b[32m4\u001b[39m     ip_list = \u001b[43mload_ips_from_har\u001b[49m\u001b[43m(\u001b[49m\u001b[43mHAR_FILE\u001b[49m\u001b[43m)\u001b[49m\n\u001b[32m      5\u001b[39m     \u001b[38;5;28mprint\u001b[39m(\u001b[33mf\u001b[39m\u001b[33m\"\u001b[39m\u001b[33mFound \u001b[39m\u001b[38;5;132;01m{\u001b[39;00m\u001b[38;5;28mlen\u001b[39m(ip_list)\u001b[38;5;132;01m}\u001b[39;00m\u001b[33m IPs\u001b[39m\u001b[33m\"\u001b[39m)\n\u001b[32m      7\u001b[39m     \u001b[38;5;66;03m# ip_list is a list of (ip, url) tuples; deduplicate by IP only\u001b[39;00m\n",
      "\u001b[36mCell\u001b[39m\u001b[36m \u001b[39m\u001b[32mIn[3]\u001b[39m\u001b[32m, line 6\u001b[39m, in \u001b[36mload_ips_from_har\u001b[39m\u001b[34m(path)\u001b[39m\n\u001b[32m      4\u001b[39m \u001b[38;5;28;01mdef\u001b[39;00m\u001b[38;5;250m \u001b[39m\u001b[34mload_ips_from_har\u001b[39m(path: \u001b[38;5;28mstr\u001b[39m) -> List[\u001b[38;5;28mstr\u001b[39m]:\n\u001b[32m      5\u001b[39m \u001b[38;5;250m    \u001b[39m\u001b[33;03m\"\"\"Extract unique IP addresses from a HAR file.\"\"\"\u001b[39;00m\n\u001b[32m----> \u001b[39m\u001b[32m6\u001b[39m     \u001b[38;5;28;01mwith\u001b[39;00m \u001b[38;5;28;43mopen\u001b[39;49m\u001b[43m(\u001b[49m\u001b[43mpath\u001b[49m\u001b[43m,\u001b[49m\u001b[43m \u001b[49m\u001b[33;43m\"\u001b[39;49m\u001b[33;43mr\u001b[39;49m\u001b[33;43m\"\u001b[39;49m\u001b[43m,\u001b[49m\u001b[43m \u001b[49m\u001b[43mencoding\u001b[49m\u001b[43m=\u001b[49m\u001b[33;43m\"\u001b[39;49m\u001b[33;43mutf-8\u001b[39;49m\u001b[33;43m\"\u001b[39;49m\u001b[43m)\u001b[49m \u001b[38;5;28;01mas\u001b[39;00m f:\n\u001b[32m      7\u001b[39m         har = json.load(f)\n\u001b[32m      9\u001b[39m     entries = har.get(\u001b[33m\"\u001b[39m\u001b[33mlog\u001b[39m\u001b[33m\"\u001b[39m, {}).get(\u001b[33m\"\u001b[39m\u001b[33mentries\u001b[39m\u001b[33m\"\u001b[39m, [])\n",
      "\u001b[36mFile \u001b[39m\u001b[32m/opt/anaconda3/envs/gis/lib/python3.12/site-packages/IPython/core/interactiveshell.py:327\u001b[39m, in \u001b[36m_modified_open\u001b[39m\u001b[34m(file, *args, **kwargs)\u001b[39m\n\u001b[32m    320\u001b[39m \u001b[38;5;28;01mif\u001b[39;00m file \u001b[38;5;129;01min\u001b[39;00m {\u001b[32m0\u001b[39m, \u001b[32m1\u001b[39m, \u001b[32m2\u001b[39m}:\n\u001b[32m    321\u001b[39m     \u001b[38;5;28;01mraise\u001b[39;00m \u001b[38;5;167;01mValueError\u001b[39;00m(\n\u001b[32m    322\u001b[39m         \u001b[33mf\u001b[39m\u001b[33m\"\u001b[39m\u001b[33mIPython won\u001b[39m\u001b[33m'\u001b[39m\u001b[33mt let you open fd=\u001b[39m\u001b[38;5;132;01m{\u001b[39;00mfile\u001b[38;5;132;01m}\u001b[39;00m\u001b[33m by default \u001b[39m\u001b[33m\"\u001b[39m\n\u001b[32m    323\u001b[39m         \u001b[33m\"\u001b[39m\u001b[33mas it is likely to crash IPython. If you know what you are doing, \u001b[39m\u001b[33m\"\u001b[39m\n\u001b[32m    324\u001b[39m         \u001b[33m\"\u001b[39m\u001b[33myou can use builtins\u001b[39m\u001b[33m'\u001b[39m\u001b[33m open.\u001b[39m\u001b[33m\"\u001b[39m\n\u001b[32m    325\u001b[39m     )\n\u001b[32m--> \u001b[39m\u001b[32m327\u001b[39m \u001b[38;5;28;01mreturn\u001b[39;00m \u001b[43mio_open\u001b[49m\u001b[43m(\u001b[49m\u001b[43mfile\u001b[49m\u001b[43m,\u001b[49m\u001b[43m \u001b[49m\u001b[43m*\u001b[49m\u001b[43margs\u001b[49m\u001b[43m,\u001b[49m\u001b[43m \u001b[49m\u001b[43m*\u001b[49m\u001b[43m*\u001b[49m\u001b[43mkwargs\u001b[49m\u001b[43m)\u001b[49m\n",
      "\u001b[31mFileNotFoundError\u001b[39m: [Errno 2] No such file or directory: '03. Web Mapping/ubereats.har'"
     ]
    }
   ],
   "source": [
    "# === RUN ===\n",
    "\n",
    "if __name__ == \"__main__\":\n",
    "    ip_list = load_ips_from_har(HAR_FILE)\n",
    "    print(f\"Found {len(ip_list)} IPs\")\n",
    "\n",
    "    # ip_list is a list of (ip, url) tuples; deduplicate by IP only\n",
    "    ips_dict = {}\n",
    "    for ip, url in ip_list:\n",
    "        if ip not in ips_dict:\n",
    "            ips_dict[ip] = url\n",
    "    ips = list(ips_dict.items())\n",
    "    print(f\"Unique IPs: {len(ips)}\")\n",
    "    ip_locations = [geolocate_ip(ip) for ip in ips[:MAX_IPS]]\n",
    "    build_map(ip_locations, OUTPUT_MAP)"
   ]
  }
 ],
 "metadata": {
  "kernelspec": {
   "display_name": "gis",
   "language": "python",
   "name": "python3"
  },
  "language_info": {
   "codemirror_mode": {
    "name": "ipython",
    "version": 3
   },
   "file_extension": ".py",
   "mimetype": "text/x-python",
   "name": "python",
   "nbconvert_exporter": "python",
   "pygments_lexer": "ipython3",
   "version": "3.12.11"
  }
 },
 "nbformat": 4,
 "nbformat_minor": 5
}
